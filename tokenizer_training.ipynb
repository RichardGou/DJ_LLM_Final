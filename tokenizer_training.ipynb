{
 "cells": [
  {
   "cell_type": "markdown",
   "metadata": {},
   "source": [
    "# 0) requirements"
   ]
  },
  {
   "cell_type": "code",
   "execution_count": 22,
   "metadata": {
    "execution": {
     "iopub.execute_input": "2025-03-17T13:08:14.792630Z",
     "iopub.status.busy": "2025-03-17T13:08:14.792285Z",
     "iopub.status.idle": "2025-03-17T13:08:18.221212Z",
     "shell.execute_reply": "2025-03-17T13:08:18.220310Z",
     "shell.execute_reply.started": "2025-03-17T13:08:14.792601Z"
    },
    "trusted": true
   },
   "outputs": [
    {
     "name": "stdout",
     "output_type": "stream",
     "text": [
      "Requirement already satisfied: miditok in /usr/local/lib/python3.10/dist-packages (3.0.5.post1)\n",
      "Requirement already satisfied: kagglehub in /usr/local/lib/python3.10/dist-packages (0.3.9)\n",
      "Requirement already satisfied: mido in /usr/local/lib/python3.10/dist-packages (1.3.3)\n",
      "Requirement already satisfied: huggingface-hub>=0.16.4 in /usr/local/lib/python3.10/dist-packages (from miditok) (0.29.0)\n",
      "Requirement already satisfied: numpy>=1.19 in /usr/local/lib/python3.10/dist-packages (from miditok) (1.26.4)\n",
      "Requirement already satisfied: symusic>=0.5.0 in /usr/local/lib/python3.10/dist-packages (from miditok) (0.5.7)\n",
      "Requirement already satisfied: tokenizers>=0.13.0 in /usr/local/lib/python3.10/dist-packages (from miditok) (0.21.0)\n",
      "Requirement already satisfied: tqdm in /usr/local/lib/python3.10/dist-packages (from miditok) (4.67.1)\n",
      "Requirement already satisfied: packaging in /usr/local/lib/python3.10/dist-packages (from kagglehub) (24.2)\n",
      "Requirement already satisfied: pyyaml in /usr/local/lib/python3.10/dist-packages (from kagglehub) (6.0.2)\n",
      "Requirement already satisfied: requests in /usr/local/lib/python3.10/dist-packages (from kagglehub) (2.32.3)\n",
      "Requirement already satisfied: filelock in /usr/local/lib/python3.10/dist-packages (from huggingface-hub>=0.16.4->miditok) (3.17.0)\n",
      "Requirement already satisfied: fsspec>=2023.5.0 in /usr/local/lib/python3.10/dist-packages (from huggingface-hub>=0.16.4->miditok) (2024.12.0)\n",
      "Requirement already satisfied: typing-extensions>=3.7.4.3 in /usr/local/lib/python3.10/dist-packages (from huggingface-hub>=0.16.4->miditok) (4.12.2)\n",
      "Requirement already satisfied: mkl_fft in /usr/local/lib/python3.10/dist-packages (from numpy>=1.19->miditok) (1.3.8)\n",
      "Requirement already satisfied: mkl_random in /usr/local/lib/python3.10/dist-packages (from numpy>=1.19->miditok) (1.2.4)\n",
      "Requirement already satisfied: mkl_umath in /usr/local/lib/python3.10/dist-packages (from numpy>=1.19->miditok) (0.1.1)\n",
      "Requirement already satisfied: mkl in /usr/local/lib/python3.10/dist-packages (from numpy>=1.19->miditok) (2025.0.1)\n",
      "Requirement already satisfied: tbb4py in /usr/local/lib/python3.10/dist-packages (from numpy>=1.19->miditok) (2022.0.0)\n",
      "Requirement already satisfied: mkl-service in /usr/local/lib/python3.10/dist-packages (from numpy>=1.19->miditok) (2.4.1)\n",
      "Requirement already satisfied: pySmartDL in /usr/local/lib/python3.10/dist-packages (from symusic>=0.5.0->miditok) (1.3.4)\n",
      "Requirement already satisfied: platformdirs in /usr/local/lib/python3.10/dist-packages (from symusic>=0.5.0->miditok) (4.3.6)\n",
      "Requirement already satisfied: charset-normalizer<4,>=2 in /usr/local/lib/python3.10/dist-packages (from requests->kagglehub) (3.4.1)\n",
      "Requirement already satisfied: idna<4,>=2.5 in /usr/local/lib/python3.10/dist-packages (from requests->kagglehub) (3.10)\n",
      "Requirement already satisfied: urllib3<3,>=1.21.1 in /usr/local/lib/python3.10/dist-packages (from requests->kagglehub) (2.3.0)\n",
      "Requirement already satisfied: certifi>=2017.4.17 in /usr/local/lib/python3.10/dist-packages (from requests->kagglehub) (2025.1.31)\n",
      "Requirement already satisfied: intel-openmp>=2024 in /usr/local/lib/python3.10/dist-packages (from mkl->numpy>=1.19->miditok) (2024.2.0)\n",
      "Requirement already satisfied: tbb==2022.* in /usr/local/lib/python3.10/dist-packages (from mkl->numpy>=1.19->miditok) (2022.0.0)\n",
      "Requirement already satisfied: tcmlib==1.* in /usr/local/lib/python3.10/dist-packages (from tbb==2022.*->mkl->numpy>=1.19->miditok) (1.2.0)\n",
      "Requirement already satisfied: intel-cmplr-lib-rt in /usr/local/lib/python3.10/dist-packages (from mkl_umath->numpy>=1.19->miditok) (2024.2.0)\n",
      "Requirement already satisfied: intel-cmplr-lib-ur==2024.2.0 in /usr/local/lib/python3.10/dist-packages (from intel-openmp>=2024->mkl->numpy>=1.19->miditok) (2024.2.0)\n"
     ]
    }
   ],
   "source": [
    "# Install required package (if not already installed)\n",
    "\n",
    "!pip install miditok kagglehub mido\n"
   ]
  },
  {
   "cell_type": "markdown",
   "metadata": {},
   "source": [
    "## a) Download dataset\n",
    "for improvement see : GiantMIDI dataset."
   ]
  },
  {
   "cell_type": "code",
   "execution_count": 23,
   "metadata": {
    "execution": {
     "iopub.execute_input": "2025-03-17T13:08:25.384155Z",
     "iopub.status.busy": "2025-03-17T13:08:25.383826Z",
     "iopub.status.idle": "2025-03-17T13:08:25.523051Z",
     "shell.execute_reply": "2025-03-17T13:08:25.522289Z",
     "shell.execute_reply.started": "2025-03-17T13:08:25.384127Z"
    },
    "trusted": true
   },
   "outputs": [
    {
     "name": "stdout",
     "output_type": "stream",
     "text": [
      "Path to dataset files: /kaggle/input/music-generation-with-giantmidi-piano\n"
     ]
    }
   ],
   "source": [
    "\n",
    "# Step 1: Download the dataset from Kaggle using kagglehub\n",
    "import kagglehub\n",
    "dataset_path = kagglehub.dataset_download(\"pictureinthenoise/music-generation-with-giantmidi-piano\")\n",
    "print(\"Path to dataset files:\", dataset_path)"
   ]
  },
  {
   "cell_type": "markdown",
   "metadata": {},
   "source": [
    "## b) import dependencies"
   ]
  },
  {
   "cell_type": "code",
   "execution_count": 24,
   "metadata": {
    "execution": {
     "iopub.execute_input": "2025-03-17T13:08:35.219458Z",
     "iopub.status.busy": "2025-03-17T13:08:35.219085Z",
     "iopub.status.idle": "2025-03-17T13:08:35.224476Z",
     "shell.execute_reply": "2025-03-17T13:08:35.223497Z",
     "shell.execute_reply.started": "2025-03-17T13:08:35.219428Z"
    },
    "trusted": true
   },
   "outputs": [],
   "source": [
    "import os\n",
    "from miditok import REMI\n",
    "import numpy as np\n",
    "import IPython.display as ipd\n",
    "from scipy.io.wavfile import write as wavwrite\n",
    "import os\n",
    "import random\n",
    "import shutil\n",
    "import mido\n",
    "import matplotlib.pyplot as plt\n",
    "import subprocess\n",
    "from pydub import AudioSegment"
   ]
  },
  {
   "cell_type": "markdown",
   "metadata": {},
   "source": [
    "# 1) dataset:\n",
    "sources: bigger with more musics types: https://github.com/asigalov61/Tegridy-MIDI-Dataset\n",
    "\n",
    "\n",
    "super famous, piano : https://github.com/bytedance/GiantMIDI-Piano. **The one used**\n",
    "\n"
   ]
  },
  {
   "cell_type": "code",
   "execution_count": 25,
   "metadata": {
    "execution": {
     "iopub.execute_input": "2025-03-17T13:08:39.822737Z",
     "iopub.status.busy": "2025-03-17T13:08:39.822409Z",
     "iopub.status.idle": "2025-03-17T13:08:48.183402Z",
     "shell.execute_reply": "2025-03-17T13:08:48.182441Z",
     "shell.execute_reply.started": "2025-03-17T13:08:39.822713Z"
    },
    "trusted": true
   },
   "outputs": [
    {
     "name": "stdout",
     "output_type": "stream",
     "text": [
      "Found 10845 MIDI files.\n"
     ]
    }
   ],
   "source": [
    "midi_files = []\n",
    "# Recursively search for files ending with .mid or .midi\n",
    "for root, dirs, files in os.walk(dataset_path):\n",
    "    for file in files:\n",
    "        if file.lower().endswith(('.mid', '.midi')):\n",
    "            midi_files.append(os.path.join(root, file))\n",
    "\n",
    "if not midi_files:\n",
    "    raise ValueError(\"No MIDI files found in the downloaded dataset.\")\n",
    "\n",
    "print(f\"Found {len(midi_files)} MIDI files.\")\n"
   ]
  },
  {
   "cell_type": "code",
   "execution_count": 26,
   "metadata": {
    "execution": {
     "iopub.execute_input": "2025-03-17T13:08:48.184784Z",
     "iopub.status.busy": "2025-03-17T13:08:48.184535Z",
     "iopub.status.idle": "2025-03-17T13:08:58.763176Z",
     "shell.execute_reply": "2025-03-17T13:08:58.762281Z",
     "shell.execute_reply.started": "2025-03-17T13:08:48.184763Z"
    },
    "trusted": true
   },
   "outputs": [
    {
     "name": "stdout",
     "output_type": "stream",
     "text": [
      "Dataset has been split into train, validation, and test sets.\n"
     ]
    }
   ],
   "source": [
    "\n",
    "# Step 3: Split files into train (80%), validation (10%), and test (10%) sets\n",
    "random.shuffle(midi_files)\n",
    "n_total = len(midi_files)\n",
    "n_train = int(n_total * 0.8)\n",
    "n_val = int(n_total * 0.1)\n",
    "# The rest for testing:\n",
    "n_test = n_total - n_train - n_val\n",
    "\n",
    "train_files = midi_files[:n_train]\n",
    "val_files = midi_files[n_train:n_train+n_val]\n",
    "test_files = midi_files[n_train+n_val:]\n",
    "\n",
    "# Create directories for the splits\n",
    "os.makedirs(\"data/train\", exist_ok=True)\n",
    "os.makedirs(\"data/val\", exist_ok=True)\n",
    "os.makedirs(\"data/test\", exist_ok=True)\n",
    "\n",
    "# Copy files into their corresponding directories\n",
    "for file in train_files:\n",
    "    shutil.copy(file, \"data/train/\")\n",
    "for file in val_files:\n",
    "    shutil.copy(file, \"data/val/\")\n",
    "for file in test_files:\n",
    "    shutil.copy(file, \"data/test/\")\n",
    "\n",
    "print(\"Dataset has been split into train, validation, and test sets.\")\n"
   ]
  },
  {
   "cell_type": "markdown",
   "metadata": {},
   "source": [
    "# 2) playing with dataset + examples"
   ]
  },
  {
   "cell_type": "code",
   "execution_count": 27,
   "metadata": {
    "execution": {
     "iopub.execute_input": "2025-03-17T13:09:14.628370Z",
     "iopub.status.busy": "2025-03-17T13:09:14.628029Z",
     "iopub.status.idle": "2025-03-17T13:09:14.940727Z",
     "shell.execute_reply": "2025-03-17T13:09:14.939763Z",
     "shell.execute_reply.started": "2025-03-17T13:09:14.628339Z"
    },
    "trusted": true
   },
   "outputs": [
    {
     "data": {
      "image/png": "[encoded data removed]",
      "text/plain": [
       "<Figure size 1000x500 with 1 Axes>"
      ]
     },
     "metadata": {},
     "output_type": "display_data"
    }
   ],
   "source": [
    "def plot_midi(file_path, start_sec=0, end_sec=None):\n",
    "\n",
    "    mid = mido.MidiFile(file_path)\n",
    "    \n",
    "    notes = []\n",
    "    times = []\n",
    "    current_time = 0\n",
    "    \n",
    "    # Iterate over all MIDI messages and track cumulative time\n",
    "    for msg in mid:\n",
    "        current_time += msg.time\n",
    "        if msg.type in ['note_on', 'note_off']:\n",
    "            # Only add notes within the selected time window\n",
    "            if current_time >= start_sec and (end_sec is None or current_time <= end_sec):\n",
    "                notes.append(msg.note)\n",
    "                times.append(current_time)\n",
    "    \n",
    "    plt.figure(figsize=(10, 5))\n",
    "    plt.scatter(times, notes, color='blue', marker='o')\n",
    "    title_end = f\"{end_sec}s\" if end_sec is not None else \"end\"\n",
    "    plt.title(f'Visualisation du fichier MIDI (from {start_sec}s to {title_end})')\n",
    "    plt.xlabel('Temps (s)')\n",
    "    plt.ylabel('Note')\n",
    "    plt.grid(True)\n",
    "    plt.show()\n",
    "\n",
    "# Example usage:\n",
    "#midi_file = 'data/train/a-jag-je-t-aime-juliette-oxc7fd0zn8o.mid'\n",
    "# Plot from 10 seconds to 30 seconds of the MIDI file\n",
    "#plot_midi(midi_file, start_sec=10, end_sec=30)"
   ]
  },
  {
   "cell_type": "markdown",
   "metadata": {},
   "source": [
    "## Tokenizer:\n",
    "Pierre bonne intuition REMI bonne idée askip CP mieux pour la classification il met pas mal de point à REMI dans ce papier: https://arxiv.org/pdf/2107.05223\n",
    "\n",
    "et en même temps dans le cours https://leria.univ-angers.fr/wp-content/uploads/2023/09/Prez-Seminaire-LERIA-2023.pdf ça dit que BPE + Rémi c'eest mieux\n",
    "comme si CP ça avait pas de BPE possible (à chercher)"
   ]
  },
  {
   "cell_type": "code",
   "execution_count": null,
   "metadata": {
    "execution": {
     "iopub.execute_input": "2025-03-17T12:09:05.400796Z",
     "iopub.status.busy": "2025-03-17T12:09:05.400577Z",
     "iopub.status.idle": "2025-03-17T12:09:05.480583Z",
     "shell.execute_reply": "2025-03-17T12:09:05.479659Z",
     "shell.execute_reply.started": "2025-03-17T12:09:05.400778Z"
    },
    "trusted": true
   },
   "outputs": [
    {
     "name": "stdout",
     "output_type": "stream",
     "text": [
      "number of files :  10845\n"
     ]
    },
    {
     "name": "stderr",
     "output_type": "stream",
     "text": [
      "/usr/local/lib/python3.10/dist-packages/miditok/tokenizations/remi.py:88: UserWarning: Attribute controls are not compatible with 'config.one_token_stream_for_programs' and multi-vocabulary tokenizers. Disabling them from the config.\n",
      "  super().__init__(tokenizer_config, params)\n"
     ]
    }
   ],
   "source": [
    "from miditok import REMI, TokenizerConfig\n",
    "from pathlib import Path\n",
    "\n",
    "# Create a tokenizer configuration\n",
    "config = TokenizerConfig(num_velocities=16, use_chords=True, use_programs=True)\n",
    "tokenizer_remi = REMI(config)\n",
    "\n",
    "# Path to your MIDI files used to train the tokenizer\n",
    "files_paths = list(Path(\"data\").rglob(\"*.mid\"))\n",
    "print(\"number of files : \",len(files_paths))\n",
    "\n",
    "# Train the tokenizer using Byte Pair Encoding (BPE) with a vocab size of 20000 \n",
    "tokenizer.train(vocab_size=20000, files_paths=files_paths)# UNCOMMENT IF NEED TO TRAIN AGAIN\n"
   ]
  }
 ],
 "metadata": {
  "kaggle": {
   "accelerator": "nvidiaTeslaT4",
   "dataSources": [
    {
     "datasetId": 5464432,
     "sourceId": 9061487,
     "sourceType": "datasetVersion"
    }
   ],
   "dockerImageVersionId": 30918,
   "isGpuEnabled": true,
   "isInternetEnabled": true,
   "language": "python",
   "sourceType": "notebook"
  },
  "kernelspec": {
   "display_name": "Python 3",
   "language": "python",
   "name": "python3"
  },
  "language_info": {
   "codemirror_mode": {
    "name": "ipython",
    "version": 3
   },
   "file_extension": ".py",
   "mimetype": "text/x-python",
   "name": "python",
   "nbconvert_exporter": "python",
   "pygments_lexer": "ipython3",
   "version": "3.10.12"
  }
 },
 "nbformat": 4,
 "nbformat_minor": 4
}
